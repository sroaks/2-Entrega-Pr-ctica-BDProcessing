{
 "cells": [
  {
   "cell_type": "code",
   "execution_count": 2,
   "metadata": {},
   "outputs": [],
   "source": [
    "from pyspark.sql.functions import *\n",
    "from pyspark.sql.types import *\n",
    "from pyspark.sql import SparkSession\n",
    "spark = SparkSession.builder.appName(\"pysparkdf\").getOrCreate()\n",
    "from pyspark.sql.window import Window"
   ]
  },
  {
   "cell_type": "code",
   "execution_count": 3,
   "metadata": {},
   "outputs": [],
   "source": [
    "dfHappiness2021 = spark.read.format(\"csv\")\\\n",
    ".option(\"header\", \"true\")\\\n",
    ".option(\"inferSchema\", \"true\")\\\n",
    ".load(\"./world-happiness-report-2021.csv\")\n",
    "dfHappiness = spark.read.format(\"csv\")\\\n",
    ".option(\"header\", \"true\")\\\n",
    ".option(\"inferSchema\", \"true\")\\\n",
    ".load(\"./world-happiness-report.csv\")"
   ]
  },
  {
   "cell_type": "code",
   "execution_count": 4,
   "metadata": {},
   "outputs": [
    {
     "name": "stdout",
     "output_type": "stream",
     "text": [
      "+------------+------------------+------------+------------------------------+------------+------------+---------------------+--------------+-----------------------+----------------------------+----------+-------------------------+------------------------+--------------------------------+----------------------------+-------------------------------------+------------------------------------------+------------------------+---------------------------------------+-------------------+\n",
      "|Country name|Regional indicator|Ladder score|Standard error of ladder score|upperwhisker|lowerwhisker|Logged GDP per capita|Social support|Healthy life expectancy|Freedom to make life choices|Generosity|Perceptions of corruption|Ladder score in Dystopia|Explained by: Log GDP per capita|Explained by: Social support|Explained by: Healthy life expectancy|Explained by: Freedom to make life choices|Explained by: Generosity|Explained by: Perceptions of corruption|Dystopia + residual|\n",
      "+------------+------------------+------------+------------------------------+------------+------------+---------------------+--------------+-----------------------+----------------------------+----------+-------------------------+------------------------+--------------------------------+----------------------------+-------------------------------------+------------------------------------------+------------------------+---------------------------------------+-------------------+\n",
      "|     Finland|    Western Europe|       7.842|                         0.032|       7.904|        7.78|               10.775|         0.954|                   72.0|                       0.949|    -0.098|                    0.186|                    2.43|                           1.446|                       1.106|                                0.741|                                     0.691|                   0.124|                                  0.481|              3.253|\n",
      "|     Denmark|    Western Europe|        7.62|                         0.035|       7.687|       7.552|               10.933|         0.954|                   72.7|                       0.946|      0.03|                    0.179|                    2.43|                           1.502|                       1.108|                                0.763|                                     0.686|                   0.208|                                  0.485|              2.868|\n",
      "| Switzerland|    Western Europe|       7.571|                         0.036|       7.643|         7.5|               11.117|         0.942|                   74.4|                       0.919|     0.025|                    0.292|                    2.43|                           1.566|                       1.079|                                0.816|                                     0.653|                   0.204|                                  0.413|              2.839|\n",
      "|     Iceland|    Western Europe|       7.554|                         0.059|        7.67|       7.438|               10.878|         0.983|                   73.0|                       0.955|      0.16|                    0.673|                    2.43|                           1.482|                       1.172|                                0.772|                                     0.698|                   0.293|                                   0.17|              2.967|\n",
      "| Netherlands|    Western Europe|       7.464|                         0.027|       7.518|        7.41|               10.932|         0.942|                   72.4|                       0.913|     0.175|                    0.338|                    2.43|                           1.501|                       1.079|                                0.753|                                     0.647|                   0.302|                                  0.384|              2.798|\n",
      "+------------+------------------+------------+------------------------------+------------+------------+---------------------+--------------+-----------------------+----------------------------+----------+-------------------------+------------------------+--------------------------------+----------------------------+-------------------------------------+------------------------------------------+------------------------+---------------------------------------+-------------------+\n",
      "\n"
     ]
    }
   ],
   "source": [
    "dfHappiness2021.limit(5).show()"
   ]
  },
  {
   "cell_type": "code",
   "execution_count": 5,
   "metadata": {},
   "outputs": [
    {
     "name": "stdout",
     "output_type": "stream",
     "text": [
      "root\n",
      " |-- Country name: string (nullable = true)\n",
      " |-- Regional indicator: string (nullable = true)\n",
      " |-- Ladder score: double (nullable = true)\n",
      " |-- Standard error of ladder score: double (nullable = true)\n",
      " |-- upperwhisker: double (nullable = true)\n",
      " |-- lowerwhisker: double (nullable = true)\n",
      " |-- Logged GDP per capita: double (nullable = true)\n",
      " |-- Social support: double (nullable = true)\n",
      " |-- Healthy life expectancy: double (nullable = true)\n",
      " |-- Freedom to make life choices: double (nullable = true)\n",
      " |-- Generosity: double (nullable = true)\n",
      " |-- Perceptions of corruption: double (nullable = true)\n",
      " |-- Ladder score in Dystopia: double (nullable = true)\n",
      " |-- Explained by: Log GDP per capita: double (nullable = true)\n",
      " |-- Explained by: Social support: double (nullable = true)\n",
      " |-- Explained by: Healthy life expectancy: double (nullable = true)\n",
      " |-- Explained by: Freedom to make life choices: double (nullable = true)\n",
      " |-- Explained by: Generosity: double (nullable = true)\n",
      " |-- Explained by: Perceptions of corruption: double (nullable = true)\n",
      " |-- Dystopia + residual: double (nullable = true)\n",
      "\n"
     ]
    }
   ],
   "source": [
    "dfHappiness2021.printSchema()"
   ]
  },
  {
   "cell_type": "code",
   "execution_count": 6,
   "metadata": {},
   "outputs": [
    {
     "name": "stdout",
     "output_type": "stream",
     "text": [
      "+------------+----+-----------+------------------+--------------+--------------------------------+----------------------------+----------+-------------------------+---------------+---------------+\n",
      "|Country name|year|Life Ladder|Log GDP per capita|Social support|Healthy life expectancy at birth|Freedom to make life choices|Generosity|Perceptions of corruption|Positive affect|Negative affect|\n",
      "+------------+----+-----------+------------------+--------------+--------------------------------+----------------------------+----------+-------------------------+---------------+---------------+\n",
      "| Afghanistan|2008|      3.724|              7.37|         0.451|                            50.8|                       0.718|     0.168|                    0.882|          0.518|          0.258|\n",
      "| Afghanistan|2009|      4.402|              7.54|         0.552|                            51.2|                       0.679|      0.19|                     0.85|          0.584|          0.237|\n",
      "| Afghanistan|2010|      4.758|             7.647|         0.539|                            51.6|                         0.6|     0.121|                    0.707|          0.618|          0.275|\n",
      "| Afghanistan|2011|      3.832|              7.62|         0.521|                           51.92|                       0.496|     0.162|                    0.731|          0.611|          0.267|\n",
      "| Afghanistan|2012|      3.783|             7.705|         0.521|                           52.24|                       0.531|     0.236|                    0.776|           0.71|          0.268|\n",
      "+------------+----+-----------+------------------+--------------+--------------------------------+----------------------------+----------+-------------------------+---------------+---------------+\n",
      "\n"
     ]
    }
   ],
   "source": [
    "dfHappiness.limit(5).show()"
   ]
  },
  {
   "cell_type": "code",
   "execution_count": 7,
   "metadata": {},
   "outputs": [
    {
     "name": "stdout",
     "output_type": "stream",
     "text": [
      "root\n",
      " |-- Country name: string (nullable = true)\n",
      " |-- year: integer (nullable = true)\n",
      " |-- Life Ladder: double (nullable = true)\n",
      " |-- Log GDP per capita: double (nullable = true)\n",
      " |-- Social support: double (nullable = true)\n",
      " |-- Healthy life expectancy at birth: double (nullable = true)\n",
      " |-- Freedom to make life choices: double (nullable = true)\n",
      " |-- Generosity: double (nullable = true)\n",
      " |-- Perceptions of corruption: double (nullable = true)\n",
      " |-- Positive affect: double (nullable = true)\n",
      " |-- Negative affect: double (nullable = true)\n",
      "\n"
     ]
    }
   ],
   "source": [
    "dfHappiness.printSchema()"
   ]
  },
  {
   "cell_type": "markdown",
   "metadata": {},
   "source": [
    "Ejercicio 1"
   ]
  },
  {
   "cell_type": "code",
   "execution_count": 8,
   "metadata": {},
   "outputs": [
    {
     "name": "stdout",
     "output_type": "stream",
     "text": [
      "+------------+------------+\n",
      "|Country name|Ladder score|\n",
      "+------------+------------+\n",
      "|     Finland|       7.842|\n",
      "+------------+------------+\n",
      "\n"
     ]
    }
   ],
   "source": [
    "result1 = dfHappiness2021.select(\n",
    "  \"Country name\",\n",
    "  \"Ladder score\"\n",
    ").orderBy(desc(\"Ladder score\"))\\\n",
    "  .limit(1)\n",
    "\n",
    "result1.cache\n",
    "result1.show()"
   ]
  },
  {
   "cell_type": "markdown",
   "metadata": {},
   "source": [
    "Ejercicio 2"
   ]
  },
  {
   "cell_type": "code",
   "execution_count": 9,
   "metadata": {},
   "outputs": [
    {
     "name": "stdout",
     "output_type": "stream",
     "text": [
      "+----------------------------------+---------+\n",
      "|Regional Indicator                |Continent|\n",
      "+----------------------------------+---------+\n",
      "|Western Europe                    |Europe   |\n",
      "|North America and ANZ             |America  |\n",
      "|Middle East and North Africa      |Africa   |\n",
      "|Latin America and Caribbean       |America  |\n",
      "|Central and Eastern Europe        |Europe   |\n",
      "|East Asia                         |Asia     |\n",
      "|Southeast Asia                    |Asia     |\n",
      "|Commonwealth of Independent States|Asia     |\n",
      "|Sub-Saharan Africa                |Africa   |\n",
      "|South Asia                        |Asia     |\n",
      "+----------------------------------+---------+\n",
      "\n"
     ]
    }
   ],
   "source": [
    "dfContinents = spark.createDataFrame([(\"Western Europe\", \"Europe\"), (\"North America and ANZ\", \"America\"),\n",
    "  (\"Middle East and North Africa\", \"Africa\"), (\"Latin America and Caribbean\", \"America\"),\n",
    "  (\"Central and Eastern Europe\", \"Europe\"), (\"East Asia\", \"Asia\"),\n",
    "  (\"Southeast Asia\", \"Asia\"), (\"Commonwealth of Independent States\", \"Asia\"),\n",
    "  (\"Sub-Saharan Africa\", \"Africa\"), (\"South Asia\",\"Asia\")],[\"Regional Indicator\",\"Continent\"])\n",
    "\n",
    "dfContinents.show(truncate=False)"
   ]
  },
  {
   "cell_type": "code",
   "execution_count": 10,
   "metadata": {},
   "outputs": [
    {
     "name": "stdout",
     "output_type": "stream",
     "text": [
      "+------------------+------------+------------+------------------------------+------------+------------+---------------------+--------------+-----------------------+----------------------------+----------+-------------------------+------------------------+--------------------------------+----------------------------+-------------------------------------+------------------------------------------+------------------------+---------------------------------------+-------------------+---------+\n",
      "|Regional indicator|Country name|Ladder score|Standard error of ladder score|upperwhisker|lowerwhisker|Logged GDP per capita|Social support|Healthy life expectancy|Freedom to make life choices|Generosity|Perceptions of corruption|Ladder score in Dystopia|Explained by: Log GDP per capita|Explained by: Social support|Explained by: Healthy life expectancy|Explained by: Freedom to make life choices|Explained by: Generosity|Explained by: Perceptions of corruption|Dystopia + residual|Continent|\n",
      "+------------------+------------+------------+------------------------------+------------+------------+---------------------+--------------+-----------------------+----------------------------+----------+-------------------------+------------------------+--------------------------------+----------------------------+-------------------------------------+------------------------------------------+------------------------+---------------------------------------+-------------------+---------+\n",
      "|    Western Europe|North Cyprus|       5.536|                         0.051|       5.636|       5.435|               10.576|          0.82|                 73.898|                       0.795|     0.012|                    0.626|                    2.43|                           1.377|                       0.806|                                0.801|                                     0.503|                   0.196|                                    0.2|              1.653|   Europe|\n",
      "|    Western Europe|      Greece|       5.723|                         0.046|       5.813|       5.632|               10.279|         0.823|                   72.6|                       0.582|    -0.288|                    0.823|                    2.43|                           1.273|                       0.811|                                 0.76|                                     0.243|                     0.0|                                  0.074|              2.561|   Europe|\n",
      "|    Western Europe|    Portugal|       5.929|                         0.055|       6.037|       5.821|               10.421|         0.879|                   72.6|                       0.892|    -0.244|                    0.887|                    2.43|                           1.323|                       0.939|                                 0.76|                                     0.621|                   0.029|                                  0.033|              2.225|   Europe|\n",
      "|    Western Europe|      Cyprus|       6.223|                         0.049|       6.319|       6.128|               10.576|         0.802|                 73.898|                       0.763|    -0.015|                    0.844|                    2.43|                           1.377|                       0.765|                                0.801|                                     0.464|                   0.178|                                  0.061|              2.578|   Europe|\n",
      "|    Western Europe|       Italy|       6.483|                         0.045|       6.572|       6.395|               10.623|          0.88|                   73.8|                       0.693|    -0.084|                    0.866|                    2.43|                           1.393|                        0.94|                                0.798|                                     0.379|                   0.133|                                  0.047|              2.794|   Europe|\n",
      "+------------------+------------+------------+------------------------------+------------+------------+---------------------+--------------+-----------------------+----------------------------+----------+-------------------------+------------------------+--------------------------------+----------------------------+-------------------------------------+------------------------------------------+------------------------+---------------------------------------+-------------------+---------+\n",
      "\n"
     ]
    }
   ],
   "source": [
    "dfJoin2021 = dfHappiness2021.join(dfContinents, [\"Regional Indicator\"])\n",
    "dfJoin2021.limit(5).show()"
   ]
  },
  {
   "cell_type": "code",
   "execution_count": 11,
   "metadata": {},
   "outputs": [
    {
     "name": "stdout",
     "output_type": "stream",
     "text": [
      "Antes del join:  149\n",
      "Después del join:  149\n"
     ]
    }
   ],
   "source": [
    "print(\"Antes del join: \", dfHappiness2021.count())\n",
    "print(\"Después del join: \", dfJoin2021.count())"
   ]
  },
  {
   "cell_type": "code",
   "execution_count": 12,
   "metadata": {},
   "outputs": [
    {
     "name": "stdout",
     "output_type": "stream",
     "text": [
      "+---------+------------------------+------------+\n",
      "|Continent|Country name            |Ladder score|\n",
      "+---------+------------------------+------------+\n",
      "|Africa   |Israel                  |7.157       |\n",
      "|America  |New Zealand             |7.277       |\n",
      "|Asia     |Taiwan Province of China|6.584       |\n",
      "|Europe   |Finland                 |7.842       |\n",
      "+---------+------------------------+------------+\n",
      "\n"
     ]
    }
   ],
   "source": [
    "windowByContinent2021 = Window.partitionBy(\"Continent\").orderBy(desc(\"Ladder score\"))\n",
    "\n",
    "result2 = dfJoin2021.withColumn(\"Rank\", rank().over(windowByContinent2021))\\\n",
    "  .filter(col(\"Rank\") == 1)\\\n",
    "  .select(\n",
    "    \"Continent\",\n",
    "    \"Country name\",\n",
    "    \"Ladder score\"\n",
    "  )\n",
    "\n",
    "result2.cache\n",
    "result2.show(truncate=False)"
   ]
  },
  {
   "cell_type": "markdown",
   "metadata": {},
   "source": [
    "Ejercicio 3"
   ]
  },
  {
   "cell_type": "code",
   "execution_count": 13,
   "metadata": {},
   "outputs": [
    {
     "name": "stdout",
     "output_type": "stream",
     "text": [
      "+----+\n",
      "|year|\n",
      "+----+\n",
      "|2005|\n",
      "|2006|\n",
      "|2007|\n",
      "|2008|\n",
      "|2009|\n",
      "|2010|\n",
      "|2011|\n",
      "|2012|\n",
      "|2013|\n",
      "|2014|\n",
      "|2015|\n",
      "|2016|\n",
      "|2017|\n",
      "|2018|\n",
      "|2019|\n",
      "|2020|\n",
      "+----+\n",
      "\n"
     ]
    }
   ],
   "source": [
    "dfHappiness.select(\"year\").distinct().orderBy(\"year\").show()"
   ]
  },
  {
   "cell_type": "code",
   "execution_count": 14,
   "metadata": {},
   "outputs": [
    {
     "name": "stdout",
     "output_type": "stream",
     "text": [
      "+------------+----+-----------+\n",
      "|Country name|year|Life Ladder|\n",
      "+------------+----+-----------+\n",
      "| Afghanistan|2008|      3.724|\n",
      "| Afghanistan|2009|      4.402|\n",
      "| Afghanistan|2010|      4.758|\n",
      "| Afghanistan|2011|      3.832|\n",
      "| Afghanistan|2012|      3.783|\n",
      "+------------+----+-----------+\n",
      "only showing top 5 rows\n",
      "\n"
     ]
    }
   ],
   "source": [
    "dfHappinessYears = dfHappiness.select(\"Country name\", \"year\", \"Life Ladder\")\n",
    "dfHappinessYears.show(5)"
   ]
  },
  {
   "cell_type": "code",
   "execution_count": 15,
   "metadata": {},
   "outputs": [
    {
     "name": "stdout",
     "output_type": "stream",
     "text": [
      "+------------+----+-----------+\n",
      "|Country name|year|Life Ladder|\n",
      "+------------+----+-----------+\n",
      "|     Finland|2021|      7.842|\n",
      "|     Denmark|2021|       7.62|\n",
      "| Switzerland|2021|      7.571|\n",
      "|     Iceland|2021|      7.554|\n",
      "| Netherlands|2021|      7.464|\n",
      "+------------+----+-----------+\n",
      "only showing top 5 rows\n",
      "\n"
     ]
    }
   ],
   "source": [
    "dfHappinessYear2021 = dfHappiness2021.select(col(\"Country name\"), lit(2021).alias(\"year\"), col(\"Ladder score\").alias(\"Life Ladder\"))\n",
    "dfHappinessYear2021.show(5)"
   ]
  },
  {
   "cell_type": "code",
   "execution_count": 16,
   "metadata": {},
   "outputs": [
    {
     "name": "stdout",
     "output_type": "stream",
     "text": [
      "Suma de los registros: 2098\n",
      "Registros de la unión: 2098\n"
     ]
    }
   ],
   "source": [
    "dfUnionHappiness = dfHappinessYears.union(dfHappinessYear2021)\n",
    "print(\"Suma de los registros: \" + str(dfHappinessYears.count() + dfHappinessYear2021.count()))\n",
    "print(\"Registros de la unión: \" + str(dfUnionHappiness.count()))"
   ]
  },
  {
   "cell_type": "code",
   "execution_count": 17,
   "metadata": {},
   "outputs": [
    {
     "name": "stdout",
     "output_type": "stream",
     "text": [
      "+------------+-----------+\n",
      "|Country name|Times first|\n",
      "+------------+-----------+\n",
      "|     Finland|          7|\n",
      "|     Denmark|          7|\n",
      "+------------+-----------+\n",
      "\n"
     ]
    }
   ],
   "source": [
    "windowByYearHappiness = Window.partitionBy(\"year\").orderBy(desc(\"Life Ladder\"))\n",
    "\n",
    "result3 = dfUnionHappiness.withColumn(\"Rank\", rank().over(windowByYearHappiness))\\\n",
    "  .filter(col(\"Rank\") == 1)\\\n",
    "  .groupBy(\"Country name\").count().withColumnRenamed(\"count\", \"Times first\")\\\n",
    "  .orderBy(desc(\"Times first\"))\\\n",
    "  .limit(2)\n",
    "\n",
    "result3.cache\n",
    "result3.show()"
   ]
  },
  {
   "cell_type": "markdown",
   "metadata": {},
   "source": [
    "Ejercicio 4"
   ]
  },
  {
   "cell_type": "code",
   "execution_count": 18,
   "metadata": {},
   "outputs": [
    {
     "name": "stdout",
     "output_type": "stream",
     "text": [
      "+------------+----+-----------+------------------+--------------+--------------------------------+----------------------------+----------+-------------------------+---------------+---------------+\n",
      "|Country name|year|Life Ladder|Log GDP per capita|Social support|Healthy life expectancy at birth|Freedom to make life choices|Generosity|Perceptions of corruption|Positive affect|Negative affect|\n",
      "+------------+----+-----------+------------------+--------------+--------------------------------+----------------------------+----------+-------------------------+---------------+---------------+\n",
      "| Afghanistan|2008|      3.724|              7.37|         0.451|                            50.8|                       0.718|     0.168|                    0.882|          0.518|          0.258|\n",
      "| Afghanistan|2009|      4.402|              7.54|         0.552|                            51.2|                       0.679|      0.19|                     0.85|          0.584|          0.237|\n",
      "| Afghanistan|2010|      4.758|             7.647|         0.539|                            51.6|                         0.6|     0.121|                    0.707|          0.618|          0.275|\n",
      "| Afghanistan|2011|      3.832|              7.62|         0.521|                           51.92|                       0.496|     0.162|                    0.731|          0.611|          0.267|\n",
      "| Afghanistan|2012|      3.783|             7.705|         0.521|                           52.24|                       0.531|     0.236|                    0.776|           0.71|          0.268|\n",
      "+------------+----+-----------+------------------+--------------+--------------------------------+----------------------------+----------+-------------------------+---------------+---------------+\n",
      "\n"
     ]
    }
   ],
   "source": [
    "dfHappiness.limit(5).show()"
   ]
  },
  {
   "cell_type": "code",
   "execution_count": 19,
   "metadata": {},
   "outputs": [
    {
     "name": "stdout",
     "output_type": "stream",
     "text": [
      "+------------+----------------+------------------+\n",
      "|Country name|Life Ladder Rank|Log GDP per capita|\n",
      "+------------+----------------+------------------+\n",
      "|     Ireland|              13|            11.323|\n",
      "+------------+----------------+------------------+\n",
      "\n"
     ]
    }
   ],
   "source": [
    "windowByYearGDP = Window.partitionBy(\"year\").orderBy(desc(\"Log GDP per capita\"))\n",
    "\n",
    "result4 = dfHappiness.withColumn(\"GDP Rank\", rank().over(windowByYearGDP))\\\n",
    "  .withColumn(\"Life Ladder Rank\", rank().over(windowByYearHappiness))\\\n",
    "  .filter((col(\"year\") == 2020) & (col(\"GDP Rank\") == 1))\\\n",
    "  .select(\"Country name\", \"Life Ladder Rank\", \"Log GDP per capita\")\n",
    "\n",
    "result4.cache\n",
    "result4.show()"
   ]
  },
  {
   "cell_type": "markdown",
   "metadata": {},
   "source": [
    "Ejercicio 5"
   ]
  },
  {
   "cell_type": "code",
   "execution_count": 20,
   "metadata": {},
   "outputs": [
    {
     "name": "stdout",
     "output_type": "stream",
     "text": [
      "+--------------+--------------------+------------+------------------------------+------------+------------+---------------------+--------------+-----------------------+----------------------------+----------+-------------------------+------------------------+--------------------------------+----------------------------+-------------------------------------+------------------------------------------+------------------------+---------------------------------------+-------------------+\n",
      "|  Country name|  Regional indicator|Ladder score|Standard error of ladder score|upperwhisker|lowerwhisker|Logged GDP per capita|Social support|Healthy life expectancy|Freedom to make life choices|Generosity|Perceptions of corruption|Ladder score in Dystopia|Explained by: Log GDP per capita|Explained by: Social support|Explained by: Healthy life expectancy|Explained by: Freedom to make life choices|Explained by: Generosity|Explained by: Perceptions of corruption|Dystopia + residual|\n",
      "+--------------+--------------------+------------+------------------------------+------------+------------+---------------------+--------------+-----------------------+----------------------------+----------+-------------------------+------------------------+--------------------------------+----------------------------+-------------------------------------+------------------------------------------+------------------------+---------------------------------------+-------------------+\n",
      "|       Finland|      Western Europe|       7.842|                         0.032|       7.904|        7.78|               10.775|         0.954|                   72.0|                       0.949|    -0.098|                    0.186|                    2.43|                           1.446|                       1.106|                                0.741|                                     0.691|                   0.124|                                  0.481|              3.253|\n",
      "|       Denmark|      Western Europe|        7.62|                         0.035|       7.687|       7.552|               10.933|         0.954|                   72.7|                       0.946|      0.03|                    0.179|                    2.43|                           1.502|                       1.108|                                0.763|                                     0.686|                   0.208|                                  0.485|              2.868|\n",
      "|   Switzerland|      Western Europe|       7.571|                         0.036|       7.643|         7.5|               11.117|         0.942|                   74.4|                       0.919|     0.025|                    0.292|                    2.43|                           1.566|                       1.079|                                0.816|                                     0.653|                   0.204|                                  0.413|              2.839|\n",
      "|       Iceland|      Western Europe|       7.554|                         0.059|        7.67|       7.438|               10.878|         0.983|                   73.0|                       0.955|      0.16|                    0.673|                    2.43|                           1.482|                       1.172|                                0.772|                                     0.698|                   0.293|                                   0.17|              2.967|\n",
      "|   Netherlands|      Western Europe|       7.464|                         0.027|       7.518|        7.41|               10.932|         0.942|                   72.4|                       0.913|     0.175|                    0.338|                    2.43|                           1.501|                       1.079|                                0.753|                                     0.647|                   0.302|                                  0.384|              2.798|\n",
      "|        Norway|      Western Europe|       7.392|                         0.035|       7.462|       7.323|               11.053|         0.954|                   73.3|                        0.96|     0.093|                     0.27|                    2.43|                           1.543|                       1.108|                                0.782|                                     0.703|                   0.249|                                  0.427|               2.58|\n",
      "|        Sweden|      Western Europe|       7.363|                         0.036|       7.433|       7.293|               10.867|         0.934|                   72.7|                       0.945|     0.086|                    0.237|                    2.43|                           1.478|                       1.062|                                0.763|                                     0.685|                   0.244|                                  0.448|              2.683|\n",
      "|    Luxembourg|      Western Europe|       7.324|                         0.037|       7.396|       7.252|               11.647|         0.908|                   72.6|                       0.907|    -0.034|                    0.386|                    2.43|                           1.751|                       1.003|                                 0.76|                                     0.639|                   0.166|                                  0.353|              2.653|\n",
      "|   New Zealand|North America and...|       7.277|                          0.04|       7.355|       7.198|               10.643|         0.948|                   73.4|                       0.929|     0.134|                    0.242|                    2.43|                             1.4|                       1.094|                                0.785|                                     0.665|                   0.276|                                  0.445|              2.612|\n",
      "|       Austria|      Western Europe|       7.268|                         0.036|       7.337|       7.198|               10.906|         0.934|                   73.3|                       0.908|     0.042|                    0.481|                    2.43|                           1.492|                       1.062|                                0.782|                                      0.64|                   0.215|                                  0.292|              2.784|\n",
      "|     Australia|North America and...|       7.183|                         0.041|       7.265|       7.102|               10.796|          0.94|                   73.9|                       0.914|     0.159|                    0.442|                    2.43|                           1.453|                       1.076|                                0.801|                                     0.647|                   0.291|                                  0.317|              2.598|\n",
      "|        Israel|Middle East and N...|       7.157|                         0.034|       7.224|        7.09|               10.575|         0.939|                 73.503|                         0.8|     0.031|                    0.753|                    2.43|                           1.376|                       1.074|                                0.788|                                     0.509|                   0.208|                                  0.119|              3.083|\n",
      "|       Germany|      Western Europe|       7.155|                          0.04|       7.232|       7.077|               10.873|         0.903|                   72.5|                       0.875|     0.011|                     0.46|                    2.43|                            1.48|                       0.993|                                0.757|                                       0.6|                   0.195|                                  0.306|              2.824|\n",
      "|        Canada|North America and...|       7.103|                         0.042|       7.185|       7.021|               10.776|         0.926|                   73.8|                       0.915|     0.089|                    0.415|                    2.43|                           1.447|                       1.044|                                0.798|                                     0.648|                   0.246|                                  0.335|              2.585|\n",
      "|       Ireland|      Western Europe|       7.085|                          0.04|       7.164|       7.006|               11.342|         0.947|                   72.4|                       0.879|     0.077|                    0.363|                    2.43|                           1.644|                       1.092|                                0.753|                                     0.606|                   0.238|                                  0.367|              2.384|\n",
      "|    Costa Rica|Latin America and...|       7.069|                         0.056|       7.179|        6.96|                 9.88|         0.891|                   71.4|                       0.934|    -0.126|                    0.809|                    2.43|                           1.134|                       0.966|                                0.722|                                     0.673|                   0.105|                                  0.083|              3.387|\n",
      "|United Kingdom|      Western Europe|       7.064|                         0.038|       7.138|        6.99|               10.707|         0.934|                   72.5|                       0.859|     0.233|                    0.459|                    2.43|                           1.423|                       1.062|                                0.757|                                      0.58|                    0.34|                                  0.306|              2.596|\n",
      "|Czech Republic|Central and Easte...|       6.965|                         0.049|       7.062|       6.868|               10.556|         0.947|                 70.807|                       0.858|    -0.208|                    0.868|                    2.43|                            1.37|                        1.09|                                0.703|                                      0.58|                   0.052|                                  0.046|              3.124|\n",
      "| United States|North America and...|       6.951|                         0.049|       7.047|       6.856|               11.023|          0.92|                   68.2|                       0.837|     0.098|                    0.698|                    2.43|                           1.533|                        1.03|                                0.621|                                     0.554|                   0.252|                                  0.154|              2.807|\n",
      "|       Belgium|      Western Europe|       6.834|                         0.034|       6.901|       6.767|               10.823|         0.906|                 72.199|                       0.783|    -0.153|                    0.646|                    2.43|                           1.463|                       0.998|                                0.747|                                     0.489|                   0.088|                                  0.187|              2.862|\n",
      "+--------------+--------------------+------------+------------------------------+------------+------------+---------------------+--------------+-----------------------+----------------------------+----------+-------------------------+------------------------+--------------------------------+----------------------------+-------------------------------------+------------------------------------------+------------------------+---------------------------------------+-------------------+\n",
      "only showing top 20 rows\n",
      "\n"
     ]
    }
   ],
   "source": [
    "dfHappiness2021.show()"
   ]
  },
  {
   "cell_type": "code",
   "execution_count": 21,
   "metadata": {},
   "outputs": [
    {
     "name": "stdout",
     "output_type": "stream",
     "text": [
      "+-----------------+\n",
      "|     Avg GDP 2020|\n",
      "+-----------------+\n",
      "|9.751329545454546|\n",
      "+-----------------+\n",
      "\n"
     ]
    }
   ],
   "source": [
    "dfAvgGDP2020 = dfHappiness.filter(col(\"year\") == 2020).agg(\n",
    "  avg(col(\"Log GDP per capita\"))\n",
    ").withColumnRenamed(\"avg(Log GDP per capita)\", \"Avg GDP 2020\")\n",
    "dfAvgGDP2020.show()"
   ]
  },
  {
   "cell_type": "code",
   "execution_count": 22,
   "metadata": {},
   "outputs": [
    {
     "name": "stdout",
     "output_type": "stream",
     "text": [
      "+-----------------+\n",
      "|     Avg GDP 2021|\n",
      "+-----------------+\n",
      "|9.432208053691273|\n",
      "+-----------------+\n",
      "\n"
     ]
    }
   ],
   "source": [
    "dfAvgGDP2021 = dfHappiness2021.agg(\n",
    "  avg(col(\"Logged GDP per capita\"))\n",
    ").withColumnRenamed(\"avg(Logged GDP per capita)\", \"Avg GDP 2021\")\n",
    "dfAvgGDP2021.show()"
   ]
  },
  {
   "cell_type": "code",
   "execution_count": 23,
   "metadata": {},
   "outputs": [
    {
     "name": "stdout",
     "output_type": "stream",
     "text": [
      "+-----------------+-----------------+---------------------+--------------+\n",
      "|     Avg GDP 2020|     Avg GDP 2021|Difference percentage|Type of change|\n",
      "+-----------------+-----------------+---------------------+--------------+\n",
      "|9.751329545454546|9.432208053691273|    3.383316927984697|     Increased|\n",
      "+-----------------+-----------------+---------------------+--------------+\n",
      "\n"
     ]
    }
   ],
   "source": [
    "result5 = dfAvgGDP2020.join(dfAvgGDP2021)\\\n",
    "  .withColumn(\"Difference percentage\", ((col(\"Avg GDP 2020\") - col(\"Avg GDP 2021\")) / col(\"Avg GDP 2021\")) * 100)\\\n",
    "  .withColumn(\"Type of change\", when(col(\"Difference percentage\")> 0, \"Increased\").when(col(\"Difference percentage\") == 0, \"Unchanged\").otherwise(\"Decreased\"))\n",
    "\n",
    "result5.cache\n",
    "result5.show()"
   ]
  },
  {
   "cell_type": "markdown",
   "metadata": {},
   "source": [
    "Ejercicio 6"
   ]
  },
  {
   "cell_type": "code",
   "execution_count": 24,
   "metadata": {},
   "outputs": [
    {
     "name": "stdout",
     "output_type": "stream",
     "text": [
      "+----+------------+--------------------------------+\n",
      "|year|Country name|Healthy life expectancy at birth|\n",
      "+----+------------+--------------------------------+\n",
      "|2008| Afghanistan|                            50.8|\n",
      "|2009| Afghanistan|                            51.2|\n",
      "|2010| Afghanistan|                            51.6|\n",
      "|2011| Afghanistan|                           51.92|\n",
      "|2012| Afghanistan|                           52.24|\n",
      "+----+------------+--------------------------------+\n",
      "only showing top 5 rows\n",
      "\n"
     ]
    }
   ],
   "source": [
    "dfExpectancy = dfHappiness.select(col(\"year\"), col(\"Country name\"), col(\"Healthy life expectancy at birth\"))\n",
    "dfExpectancy2021 = dfHappiness2021.select(lit(2021), col(\"Country name\"), col(\"Healthy life expectancy\").alias(\"Healthy life expectancy at birth\"))\n",
    "dfUnionExpectancy = dfExpectancy.union(dfExpectancy2021)\n",
    "dfUnionExpectancy.show(5)"
   ]
  },
  {
   "cell_type": "code",
   "execution_count": 25,
   "metadata": {},
   "outputs": [
    {
     "name": "stdout",
     "output_type": "stream",
     "text": [
      "2021\n"
     ]
    }
   ],
   "source": [
    "#En el último año\n",
    "\n",
    "lastYear = dfUnionExpectancy.agg(max(col(\"year\")))\\\n",
    "  .limit(1)\\\n",
    "  .take(1)[0][0]\n",
    "print(lastYear)"
   ]
  },
  {
   "cell_type": "code",
   "execution_count": 26,
   "metadata": {},
   "outputs": [
    {
     "name": "stdout",
     "output_type": "stream",
     "text": [
      "+----+------------+--------------------------------+\n",
      "|year|Country name|Healthy life expectancy at birth|\n",
      "+----+------------+--------------------------------+\n",
      "|2021|   Singapore|                          76.953|\n",
      "+----+------------+--------------------------------+\n",
      "\n"
     ]
    }
   ],
   "source": [
    "windowByYearExpectancy = Window.partitionBy(\"year\").orderBy(desc(\"Healthy life expectancy at birth\"))\n",
    "\n",
    "dfRankedByYearExpectancy = dfUnionExpectancy.withColumn(\"Rank\", rank().over(windowByYearExpectancy))\n",
    "\n",
    "result6a = dfUnionExpectancy.withColumn(\"Rank\", rank().over(windowByYearExpectancy))\\\n",
    "  .filter((col(\"Rank\") == 1) & (col(\"year\")== lastYear))\\\n",
    "  .drop(\"Rank\")\n",
    "\n",
    "result6a.cache\n",
    "result6a.show()"
   ]
  },
  {
   "cell_type": "code",
   "execution_count": 27,
   "metadata": {},
   "outputs": [
    {
     "name": "stdout",
     "output_type": "stream",
     "text": [
      "+------------+-----------------------+\n",
      "|Country name|Average life expectancy|\n",
      "+------------+-----------------------+\n",
      "|   Singapore|               76.83825|\n",
      "+------------+-----------------------+\n",
      "\n"
     ]
    }
   ],
   "source": [
    "#En los últimos 5 años\n",
    "\n",
    "result6b = dfUnionExpectancy.filter(col(\"year\").between(lastYear - 4, lastYear))\\\n",
    "  .groupBy(\"Country name\").avg(\"Healthy life expectancy at birth\")\\\n",
    "  .withColumnRenamed(\"avg(Healthy life expectancy at birth)\", \"Average life expectancy\")\\\n",
    "  .orderBy(desc(\"Average life expectancy\"))\\\n",
    "  .limit(1)\n",
    "\n",
    "result6b.cache\n",
    "result6b.show()"
   ]
  },
  {
   "cell_type": "code",
   "execution_count": 28,
   "metadata": {},
   "outputs": [
    {
     "name": "stdout",
     "output_type": "stream",
     "text": [
      "+------------+--------------------------------+\n",
      "|Country name|Healthy life expectancy at birth|\n",
      "+------------+--------------------------------+\n",
      "|   Singapore|                            77.1|\n",
      "+------------+--------------------------------+\n",
      "\n"
     ]
    }
   ],
   "source": [
    "#En 2019\n",
    "\n",
    "result6c = result6a.select(\"Country name\")\\\n",
    "  .join(dfRankedByYearExpectancy.filter(col(\"year\") == 2019), [\"Country name\"])\\\n",
    "  .drop(\"Rank\").drop(\"year\")\n",
    "\n",
    "result6c.cache\n",
    "dfRankedByYearExpectancy.unpersist\n",
    "result6c.show()"
   ]
  },
  {
   "cell_type": "markdown",
   "metadata": {},
   "source": [
    "ENTREGA ARTÍCULO MEDIUM\n",
    "\n",
    "https://medium.com/@gonzalo.robles92/mi-experiencia-388797776763"
   ]
  }
 ],
 "metadata": {
  "kernelspec": {
   "display_name": "Python 3",
   "language": "python",
   "name": "python3"
  },
  "language_info": {
   "codemirror_mode": {
    "name": "ipython",
    "version": 3
   },
   "file_extension": ".py",
   "mimetype": "text/x-python",
   "name": "python",
   "nbconvert_exporter": "python",
   "pygments_lexer": "ipython3",
   "version": "3.10.11"
  }
 },
 "nbformat": 4,
 "nbformat_minor": 2
}
